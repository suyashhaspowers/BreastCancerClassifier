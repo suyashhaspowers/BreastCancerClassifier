{
 "cells": [
  {
   "cell_type": "code",
   "execution_count": 4,
   "metadata": {},
   "outputs": [],
   "source": [
    "import sklearn"
   ]
  },
  {
   "cell_type": "code",
   "execution_count": 5,
   "metadata": {},
   "outputs": [],
   "source": [
    "from sklearn.datasets import load_breast_cancer"
   ]
  },
  {
   "cell_type": "code",
   "execution_count": 6,
   "metadata": {},
   "outputs": [],
   "source": [
    "from sklearn.model_selection import train_test_split"
   ]
  },
  {
   "cell_type": "code",
   "execution_count": 7,
   "metadata": {},
   "outputs": [],
   "source": [
    "from sklearn.naive_bayes import GaussianNB"
   ]
  },
  {
   "cell_type": "code",
   "execution_count": 8,
   "metadata": {},
   "outputs": [],
   "source": [
    "from sklearn.metrics import accuracy_score"
   ]
  },
  {
   "cell_type": "code",
   "execution_count": 9,
   "metadata": {},
   "outputs": [],
   "source": [
    "import pandas as pd"
   ]
  },
  {
   "cell_type": "code",
   "execution_count": 10,
   "metadata": {},
   "outputs": [],
   "source": [
    "import pickle"
   ]
  },
  {
   "cell_type": "code",
   "execution_count": 11,
   "metadata": {},
   "outputs": [],
   "source": [
    "data = load_breast_cancer()"
   ]
  },
  {
   "cell_type": "code",
   "execution_count": 12,
   "metadata": {},
   "outputs": [],
   "source": [
    "df = pd.DataFrame(data.data, columns=data.feature_names)\n",
    "df = df[[col for col in df.columns if 'mean' in col]]"
   ]
  },
  {
   "cell_type": "code",
   "execution_count": 13,
   "metadata": {},
   "outputs": [],
   "source": [
    "label_names = data['target_names'] # What we are trying to predict\n",
    "labels = (data['target']) # Actual label data\n",
    "\n",
    "# 0 - Malignant, 1 - Benign\n",
    "\n",
    "feature_names = ['mean radius', 'mean texture', 'mean perimeter', 'mean area', 'mean smoothness', 'mean compactness', 'mean concavity', 'mean concave points', 'mean symmetry', 'mean fractal dimension']\n",
    "features = df"
   ]
  },
  {
   "cell_type": "code",
   "execution_count": 14,
   "metadata": {},
   "outputs": [],
   "source": [
    "# Split our data, 2/3 - Train, 1/3 - Test\n",
    "train, test, train_labels, test_labels = train_test_split(features,\n",
    "                                                          labels,\n",
    "                                                          test_size=0.33,\n",
    "                                                          random_state=42)"
   ]
  },
  {
   "cell_type": "code",
   "execution_count": 15,
   "metadata": {},
   "outputs": [],
   "source": [
    "# Initialize classifier\n",
    "gnb = GaussianNB()\n",
    "\n",
    "# Train classifier\n",
    "model = gnb.fit(train, train_labels)"
   ]
  },
  {
   "cell_type": "code",
   "execution_count": 16,
   "metadata": {},
   "outputs": [],
   "source": [
    "filename = 'finalized_model.sav'\n",
    "pickle.dump(gnb, open(filename, 'wb'))"
   ]
  },
  {
   "cell_type": "code",
   "execution_count": 23,
   "metadata": {},
   "outputs": [
    {
     "output_type": "stream",
     "name": "stdout",
     "text": "mean radius  mean texture  mean perimeter  mean area  mean smoothness  \\\n204        12.47         18.60           81.09      481.9          0.09965   \n70         18.94         21.31          123.60     1130.0          0.09009   \n131        15.46         19.48          101.70      748.9          0.10920   \n431        12.40         17.68           81.47      467.8          0.10540   \n540        11.54         14.44           74.65      402.9          0.09984   \n..           ...           ...             ...        ...              ...   \n141        16.11         18.05          105.10      813.0          0.09721   \n498        18.49         17.52          121.30     1068.0          0.10120   \n7          13.71         20.83           90.20      577.9          0.11890   \n541        14.47         24.99           95.81      656.4          0.08837   \n19         13.54         14.36           87.46      566.3          0.09779   \n\n     mean compactness  mean concavity  mean concave points  mean symmetry  \\\n204           0.10580         0.08005              0.03821         0.1925   \n70            0.10290         0.10800              0.07951         0.1582   \n131           0.12230         0.14660              0.08087         0.1931   \n431           0.13160         0.07741              0.02799         0.1811   \n540           0.11200         0.06737              0.02594         0.1818   \n..                ...             ...                  ...            ...   \n141           0.11370         0.09447              0.05943         0.1861   \n498           0.13170         0.14910              0.09183         0.1832   \n7             0.16450         0.09366              0.05985         0.2196   \n541           0.12300         0.10090              0.03890         0.1872   \n19            0.08129         0.06664              0.04781         0.1885   \n\n     mean fractal dimension  \n204                 0.06373  \n70                  0.05461  \n131                 0.05796  \n431                 0.07102  \n540                 0.06782  \n..                      ...  \n141                 0.06248  \n498                 0.06697  \n7                   0.07451  \n541                 0.06341  \n19                  0.05766  \n\n[188 rows x 10 columns]\n"
    }
   ],
   "source": [
    "preds = gnb.predict(test)"
   ]
  },
  {
   "cell_type": "code",
   "execution_count": 18,
   "metadata": {},
   "outputs": [
    {
     "output_type": "stream",
     "name": "stdout",
     "text": "[1 0 0 1 1 0 0 0 1 1 1 0 1 0 1 0 1 1 1 0 1 1 0 1 1 1 1 1 1 0 1 1 1 1 1 1 1\n 1 0 1 1 0 1 1 1 1 1 1 1 1 0 0 1 1 1 1 1 0 1 1 1 0 0 1 1 1 0 0 1 1 0 0 1 0\n 1 1 1 1 1 1 0 1 1 0 0 0 0 0 1 1 1 1 0 1 1 1 0 0 1 0 0 1 0 0 1 1 1 0 1 1 0\n 1 1 0 0 0 1 1 1 0 0 1 1 0 1 0 0 1 1 0 0 0 1 1 1 0 1 1 0 0 1 0 1 1 0 1 0 0\n 1 1 1 1 1 1 1 0 0 1 1 1 1 1 1 1 1 1 1 1 1 0 1 1 1 0 1 1 0 1 1 1 1 1 1 0 0\n 0 1 1]\n"
    }
   ],
   "source": [
    "print(preds)"
   ]
  },
  {
   "cell_type": "code",
   "execution_count": 19,
   "metadata": {},
   "outputs": [
    {
     "output_type": "stream",
     "name": "stdout",
     "text": "0.9308510638297872\n"
    }
   ],
   "source": [
    "# Evaluate accuracy\n",
    "print(accuracy_score(test_labels, preds))"
   ]
  }
 ],
 "metadata": {
  "kernelspec": {
   "display_name": "Python 3",
   "language": "python",
   "name": "python3"
  },
  "language_info": {
   "codemirror_mode": {
    "name": "ipython",
    "version": 3
   },
   "file_extension": ".py",
   "mimetype": "text/x-python",
   "name": "python",
   "nbconvert_exporter": "python",
   "pygments_lexer": "ipython3",
   "version": "3.8.2-final"
  }
 },
 "nbformat": 4,
 "nbformat_minor": 4
}